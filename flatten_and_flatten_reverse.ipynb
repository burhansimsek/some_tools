{
  "nbformat": 4,
  "nbformat_minor": 0,
  "metadata": {
    "colab": {
      "name": "flatten_and_flatten-reverse.ipynb",
      "provenance": [],
      "collapsed_sections": []
    },
    "kernelspec": {
      "name": "python3",
      "display_name": "Python 3"
    },
    "language_info": {
      "name": "python"
    }
  },
  "cells": [
    {
      "cell_type": "code",
      "execution_count": 51,
      "metadata": {
        "colab": {
          "base_uri": "https://localhost:8080/"
        },
        "id": "ZgcpxvZvVTu-",
        "outputId": "e9aeb0c1-bf93-492a-f8b2-9cfbbab79f6a"
      },
      "outputs": [
        {
          "output_type": "execute_result",
          "data": {
            "text/plain": [
              "[1, 'a', 'cat', 2, 3, 'dog', 4, 5]"
            ]
          },
          "metadata": {},
          "execution_count": 51
        }
      ],
      "source": [
        "def flatten(ls,x):\n",
        "  for l in ls:\n",
        "    if type(l)==list:\n",
        "      flatten(l,x)\n",
        "    else:\n",
        "      x.append(l)\n",
        "  return x\n",
        "\n",
        "#2. arguman olarak bos liste verilmeli\n",
        "ls=[[1,'a',['cat'],2],[[[3]],'dog'],4,5]\n",
        "new_ls=[]\n",
        "flatten(ls,new_ls)"
      ]
    },
    {
      "cell_type": "code",
      "source": [
        "def rvrs(ls):\n",
        "  for l in ls:\n",
        "    if type(l)==list:\n",
        "      l.reverse\n",
        "      rvrs(l)\n",
        "  ls.reverse()\n",
        "\n",
        "rvrs(m)\n",
        "m"
      ],
      "metadata": {
        "colab": {
          "base_uri": "https://localhost:8080/"
        },
        "id": "qdYEL-l4VVCu",
        "outputId": "41e9aab2-5f37-45d3-fdcf-bd56942f9692"
      },
      "execution_count": 52,
      "outputs": [
        {
          "output_type": "execute_result",
          "data": {
            "text/plain": [
              "[5, 4, ['dog', [[3]]], [2, ['cat'], 'a', 1]]"
            ]
          },
          "metadata": {},
          "execution_count": 52
        }
      ]
    },
    {
      "cell_type": "code",
      "source": [
        ""
      ],
      "metadata": {
        "id": "pk65H0NvXXm9"
      },
      "execution_count": null,
      "outputs": []
    }
  ]
}
