{
 "cells": [
  {
   "cell_type": "code",
   "execution_count": 1,
   "id": "0e408f40",
   "metadata": {},
   "outputs": [
    {
     "name": "stdout",
     "output_type": "stream",
     "text": [
      "23\n",
      "10111\n"
     ]
    }
   ],
   "source": [
    "value=int(input())\n",
    "answer=\"\"\n",
    "while value > 0:\n",
    "  if value%2==0:\n",
    "    answer=answer+\"0\"\n",
    "  else:\n",
    "    answer=answer+\"1\"\n",
    "  value=int(value/2)\n",
    "\n",
    "print(answer[::-1])\n"
   ]
  },
  {
   "cell_type": "code",
   "execution_count": null,
   "id": "a81b367b",
   "metadata": {},
   "outputs": [],
   "source": []
  }
 ],
 "metadata": {
  "kernelspec": {
   "display_name": "Python 3 (ipykernel)",
   "language": "python",
   "name": "python3"
  },
  "language_info": {
   "codemirror_mode": {
    "name": "ipython",
    "version": 3
   },
   "file_extension": ".py",
   "mimetype": "text/x-python",
   "name": "python",
   "nbconvert_exporter": "python",
   "pygments_lexer": "ipython3",
   "version": "3.9.7"
  }
 },
 "nbformat": 4,
 "nbformat_minor": 5
}
