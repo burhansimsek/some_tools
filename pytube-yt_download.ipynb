{
 "cells": [
  {
   "cell_type": "code",
   "execution_count": 32,
   "id": "41fe75df",
   "metadata": {},
   "outputs": [],
   "source": [
    "from pytube import YouTube"
   ]
  },
  {
   "cell_type": "code",
   "execution_count": 49,
   "id": "3647edce",
   "metadata": {},
   "outputs": [],
   "source": [
    "download_folder=\"/Users/burhansimsek/Desktop\""
   ]
  },
  {
   "cell_type": "code",
   "execution_count": 50,
   "id": "4c03d6bd",
   "metadata": {},
   "outputs": [],
   "source": [
    "url=\"https://www.youtube.com/watch?v=Hu97Hk8MT8U&list=RDThsfNjsfWKg&index=2&ab_channel=Do%C4%9Fa%C4%B0%C3%A7in%C3%87al\""
   ]
  },
  {
   "cell_type": "code",
   "execution_count": 56,
   "id": "2de494bc",
   "metadata": {},
   "outputs": [],
   "source": [
    "obj=YouTube(url)"
   ]
  },
  {
   "cell_type": "code",
   "execution_count": 72,
   "id": "ff79f87a",
   "metadata": {},
   "outputs": [],
   "source": [
    "stream=obj.streams.get_highest_resolution()"
   ]
  },
  {
   "cell_type": "code",
   "execution_count": null,
   "id": "e845f27b",
   "metadata": {},
   "outputs": [],
   "source": [
    "stream.download(download_folder)"
   ]
  },
  {
   "cell_type": "code",
   "execution_count": null,
   "id": "376945e9",
   "metadata": {},
   "outputs": [],
   "source": []
  }
 ],
 "metadata": {
  "kernelspec": {
   "display_name": "Python 3 (ipykernel)",
   "language": "python",
   "name": "python3"
  },
  "language_info": {
   "codemirror_mode": {
    "name": "ipython",
    "version": 3
   },
   "file_extension": ".py",
   "mimetype": "text/x-python",
   "name": "python",
   "nbconvert_exporter": "python",
   "pygments_lexer": "ipython3",
   "version": "3.9.9"
  }
 },
 "nbformat": 4,
 "nbformat_minor": 5
}
