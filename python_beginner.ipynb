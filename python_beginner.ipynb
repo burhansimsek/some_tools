{
  "nbformat": 4,
  "nbformat_minor": 0,
  "metadata": {
    "colab": {
      "name": "python_beginner.ipynb",
      "provenance": []
    },
    "kernelspec": {
      "name": "python3",
      "display_name": "Python 3"
    },
    "language_info": {
      "name": "python"
    }
  },
  "cells": [
    {
      "cell_type": "markdown",
      "source": [
        "#Decimal to Binary\n",
        "İkilik sayı sistemi mantığı!\n",
        "\n",
        "https://www.youtube.com/watch?v=rsxT4FfRBaM&ab_channel=TheOrganicChemistryTutor"
      ],
      "metadata": {
        "id": "ZEQTkNwO2rHk"
      }
    },
    {
      "cell_type": "code",
      "execution_count": null,
      "metadata": {
        "id": "esk601Kz1Yr3"
      },
      "outputs": [],
      "source": [
        "value=int(input())\n",
        "answer=\"\"\n",
        "while value > 0:\n",
        "  if value%2==0:\n",
        "    answer=answer+\"0\"\n",
        "  else:\n",
        "    answer=answer+\"1\"\n",
        "  value=int(value/2)\n",
        "\n",
        "print(answer[::-1])"
      ]
    },
    {
      "cell_type": "markdown",
      "source": [
        "#Flatten & Flatten Reverse\n",
        "---\n",
        "\n"
      ],
      "metadata": {
        "id": "GTu-E6Y44Sq4"
      }
    },
    {
      "cell_type": "code",
      "source": [
        "ls=[[1,'a',['cat'],2],[[[3]],'dog'],4,5]\n",
        "ls"
      ],
      "metadata": {
        "id": "HPBO15xR4nAN"
      },
      "execution_count": null,
      "outputs": []
    },
    {
      "cell_type": "code",
      "source": [
        "def flatten(ls,x):\n",
        "  for l in ls:\n",
        "    if type(l)==list:\n",
        "      flatten(l,x)\n",
        "    else:\n",
        "      x.append(l)\n",
        "  return x\n",
        "\n",
        "#2. arguman olarak bos liste verilmeli\n",
        "new_ls=[]\n",
        "flatten(ls,new_ls)"
      ],
      "metadata": {
        "id": "qCgy1gYS1cea"
      },
      "execution_count": null,
      "outputs": []
    },
    {
      "cell_type": "code",
      "source": [
        "def rvrs(ls):\n",
        "  for l in ls:\n",
        "    if type(l)==list:\n",
        "      l.reverse\n",
        "      rvrs(l)\n",
        "  ls.reverse()\n",
        "\n",
        "rvrs(ls)\n",
        "ls"
      ],
      "metadata": {
        "id": "GbJATlcO1kQ7"
      },
      "execution_count": null,
      "outputs": []
    },
    {
      "cell_type": "markdown",
      "source": [
        "#Sorular:\n",
        "##1-10 arasındaki çift sayıların toplamı"
      ],
      "metadata": {
        "id": "ixO6K82h5UE2"
      }
    },
    {
      "cell_type": "code",
      "source": [
        "cift,tek=0,0\n",
        "for i in range(10):\n",
        "  if i%2==0:\n",
        "    cift+=i\n",
        "  else:\n",
        "    tek+=i\n",
        "  \n",
        "print(\"Çift Sayıların toplamı: \"+str(cift));\n",
        "print(\"Tek Sayıların toplamı: \"+str(tek));    "
      ],
      "metadata": {
        "id": "LhBgbjvA4c8l"
      },
      "execution_count": null,
      "outputs": []
    },
    {
      "cell_type": "markdown",
      "source": [
        "##Girilen Sayıyı Ters Çevirme"
      ],
      "metadata": {
        "id": "QU2KtLpS5kfH"
      }
    },
    {
      "cell_type": "code",
      "source": [
        "sayi=int(input())\n",
        "cevir=0\n",
        "i=0\n",
        "while i<1:\n",
        "  if sayi==0:\n",
        "    break\n",
        "  cevir=cevir*10\n",
        "  cevir=int(cevir+sayi%10)\n",
        "  sayi=int(sayi/10)\n",
        "print(cevir)"
      ],
      "metadata": {
        "id": "P7Z8s6gx4s8M"
      },
      "execution_count": null,
      "outputs": []
    },
    {
      "cell_type": "markdown",
      "source": [
        "##Üs Alma"
      ],
      "metadata": {
        "id": "uGi5TA1Z5pHN"
      }
    },
    {
      "cell_type": "code",
      "source": [
        "sayi=int(input(\"taban: \"))\n",
        "us=int(input(\"kuvvet: \"))\n",
        "sonuc=1\n",
        "while us!=0:\n",
        "  sonuc*=sayi\n",
        "  us=us-1\n",
        "print(sonuc)"
      ],
      "metadata": {
        "id": "CabQ3NzK5t1k"
      },
      "execution_count": null,
      "outputs": []
    },
    {
      "cell_type": "markdown",
      "source": [
        "##Fibonacci Dizisiz\n",
        "https://tr.wikipedia.org/wiki/Fibonacci_dizisi"
      ],
      "metadata": {
        "id": "jq3X3Cxk5uzS"
      }
    },
    {
      "cell_type": "code",
      "source": [
        "sonuc=\"\"\n",
        "i=0\n",
        "a=int(input(\"terim 1: \"))\n",
        "b=int(input(\"terim 2: \"))\n",
        "terim=int(input(\"kac adim gidilsin:\" ))\n",
        "while i<=terim:\n",
        "  sonuc=sonuc+str(a)+\", \"\n",
        "  c=a+b\n",
        "  a=b\n",
        "  b=c\n",
        "  i=i+1\n",
        "\n",
        "sonuc"
      ],
      "metadata": {
        "id": "BDiX8Pot50OJ"
      },
      "execution_count": null,
      "outputs": []
    },
    {
      "cell_type": "markdown",
      "source": [
        "##Fibonacci Dizili"
      ],
      "metadata": {
        "id": "J9eveaQy51eu"
      }
    },
    {
      "cell_type": "code",
      "source": [
        "fibo=[]   \n",
        "fibo.append(int(input(\"terim 1: \")))  \n",
        "fibo.append(int(input(\"terim 2: \")))\n",
        "terim=int(input(\"kac adim gidilsin: \"))\n",
        "\n",
        "for i in range(2,terim):\n",
        "  fibo.append(fibo[i-1]+fibo[i-2])\n",
        "fibo"
      ],
      "metadata": {
        "id": "jWoh7rh850lM"
      },
      "execution_count": null,
      "outputs": []
    },
    {
      "cell_type": "markdown",
      "source": [
        "##5 öğrencinin Vize Final notlarından çan hesabı ile geçenler ve kalanlar"
      ],
      "metadata": {
        "id": "5oj7weJ66G-L"
      }
    },
    {
      "cell_type": "code",
      "source": [
        "\n",
        "ad=[]\n",
        "v=[]\n",
        "f=[]\n",
        "ort,gort=[],0\n",
        "\n",
        "for i in range(3):\n",
        "  ad.append(input(str(i+1)+\". Ogrencinin Adi: \"))\n",
        "  v.append(int(input(str(i+1)+\". Ogrencinin Vizesi: \")))\n",
        "  f.append(int(input(str(i+1)+\". Ogrencinin Finali\")))\n",
        "  ort.append((v[i]*0.4)+(f[i]*0.6))\n",
        "  gort=gort+ort[i]\n",
        "\n",
        "gort=gort/3\n",
        "print(\"Ortalama: \" + str(gort))\n",
        "for i in range(3):\n",
        "  if ort[i]>=gort:\n",
        "    print(ad[i]+\" \"+str(ort[i])+\" Ortalama ile GECTI\")\n",
        "  else:\n",
        "    print(ad[i]+\" \"+str(ort[i])+\" Ortalama ile KALDI\")\n",
        "\n"
      ],
      "metadata": {
        "id": "kmC30Ct76Mrt"
      },
      "execution_count": null,
      "outputs": []
    },
    {
      "cell_type": "markdown",
      "source": [
        "##Tek Sayıları Sola-Çift Sayıları Sağa Yazdırma"
      ],
      "metadata": {
        "id": "NgtWIvWe6eS4"
      }
    },
    {
      "cell_type": "code",
      "source": [
        "\n",
        "el_sayi=int(input(\"Eleman Sayisi Giriniz: \"))\n",
        "dizi=[]\n",
        "n_dizi=[]\n",
        "for i in range(el_sayi):\n",
        "  dizi.append(int(input(str(i+1)+\". Sayiyi Giriniz: \")))\n",
        "    \n",
        "for i in range(len(dizi)):\n",
        "  if dizi[i]%2==1:\n",
        "    n_dizi.append(dizi[i])\n",
        "\n",
        "n_dizi.append(\"||\")\n",
        "\n",
        "for i in range(len(dizi)):\n",
        "  if dizi[i]%2==0:\n",
        "    n_dizi.append(dizi[i])\n",
        "\n",
        "n_dizi"
      ],
      "metadata": {
        "id": "TDWGp67G6k8E"
      },
      "execution_count": null,
      "outputs": []
    },
    {
      "cell_type": "markdown",
      "source": [
        "##Kullanıcı Tarafından Girilen 5 sayıyı küçükten büyüğe sıralama"
      ],
      "metadata": {
        "id": "Ktw1TIB46nag"
      }
    },
    {
      "cell_type": "code",
      "source": [
        "sayi=[]\n",
        "bos=0\n",
        "for i in range(5):\n",
        "  sayi.append(int(input(str(i+1)+\". Sayiyi Giriniz: \")))\n",
        "\n",
        "\n",
        "for k in range(4):\n",
        "  for j in range(k+1,5):\n",
        "    if sayi[k] > sayi[j]:\n",
        "      bos = sayi[k]\n",
        "      sayi[k]=sayi[j]\n",
        "      sayi[j]=bos\n",
        "\n",
        "sayi\n",
        "\n"
      ],
      "metadata": {
        "id": "mW-2Zwy26yPo"
      },
      "execution_count": null,
      "outputs": []
    },
    {
      "cell_type": "markdown",
      "source": [
        "## Fonksiyon ile faktoriyel alma"
      ],
      "metadata": {
        "id": "g72FGig863wo"
      }
    },
    {
      "cell_type": "code",
      "source": [
        "def faktoriyel(sayi):\n",
        "  f=1\n",
        "  for i in range(1,sayi+1):\n",
        "    f=f*i\n",
        "  return f\n",
        "\n",
        "giris=int(input(\"Sayiyi giriniz: \"))\n",
        "\n",
        "faktoriyel(giris)"
      ],
      "metadata": {
        "id": "hWaX94UN65zl"
      },
      "execution_count": null,
      "outputs": []
    },
    {
      "cell_type": "markdown",
      "source": [
        "##Çarpma işlemini çarpma(*) kullanmadan fonksiyon ile yapma"
      ],
      "metadata": {
        "id": "1sMLLTcr69i5"
      }
    },
    {
      "cell_type": "code",
      "source": [
        "\n",
        "def carp(a,b):\n",
        "    sonuc=0\n",
        "    for i in range(a):\n",
        "      sonuc=sonuc+b;\n",
        "    return sonuc;\n",
        "\n",
        "first=int(input(\"1. Sayiyi Giriniz: \"))\n",
        "second=int(input(\"1. Sayiyi Giriniz: \"))\n",
        "carp(first,second)"
      ],
      "metadata": {
        "id": "IZAJ-0d27EKa"
      },
      "execution_count": null,
      "outputs": []
    },
    {
      "cell_type": "markdown",
      "source": [
        "##Öğrenme Algoritması"
      ],
      "metadata": {
        "id": "k_WW5kB27HNr"
      }
    },
    {
      "cell_type": "code",
      "source": [
        "def ogrenme(gor,duy,uygula):\n",
        "  sonuc=0\n",
        "  if(gor==1):\n",
        "    sonuc+=25\n",
        "  if(duy==1):\n",
        "    sonuc+=25\n",
        "  if(uygula==1):\n",
        "    sonuc+=50\n",
        "  return sonuc\n",
        "\n",
        "ogrenme(1,1,1)\n"
      ],
      "metadata": {
        "colab": {
          "base_uri": "https://localhost:8080/"
        },
        "id": "fLRn-9MB7JD2",
        "outputId": "88cb4237-b608-4f8d-90bc-ec52d977dbae"
      },
      "execution_count": 133,
      "outputs": [
        {
          "output_type": "execute_result",
          "data": {
            "text/plain": [
              "100"
            ]
          },
          "metadata": {},
          "execution_count": 133
        }
      ]
    },
    {
      "cell_type": "code",
      "source": [
        ""
      ],
      "metadata": {
        "id": "72qRVFrVQDr6"
      },
      "execution_count": null,
      "outputs": []
    }
  ]
}